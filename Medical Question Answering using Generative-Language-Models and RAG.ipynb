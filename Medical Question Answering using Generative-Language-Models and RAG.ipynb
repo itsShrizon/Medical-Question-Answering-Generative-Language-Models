{
 "cells": [
  {
   "cell_type": "code",
   "execution_count": 1,
   "id": "1aa7fc85-39d2-4216-bfab-1e89500ba1d6",
   "metadata": {},
   "outputs": [],
   "source": [
    "import os\n",
    "import torch\n",
    "from transformers import (\n",
    "    AutoModelForCausalLM,\n",
    "    AutoTokenizer,\n",
    "    BitsAndBytesConfig,\n",
    "    pipeline\n",
    ")\n",
    "\n",
    "\n",
    "\n",
    "from langchain.text_splitter import CharacterTextSplitter\n",
    "from langchain.document_transformers import Html2TextTransformer\n",
    "from langchain.document_loaders import AsyncChromiumLoader\n",
    "\n",
    "from langchain.embeddings.huggingface import HuggingFaceEmbeddings\n",
    "from langchain.vectorstores import FAISS\n",
    "\n",
    "from langchain.prompts import PromptTemplate\n",
    "from langchain.schema.runnable import RunnablePassthrough\n",
    "from langchain.llms import HuggingFacePipeline\n",
    "from langchain.chains import LLMChain"
   ]
  },
  {
   "cell_type": "code",
   "execution_count": 2,
   "id": "e0071ae3-b03c-4286-afd8-0f3ca962202e",
   "metadata": {},
   "outputs": [
    {
     "name": "stdout",
     "output_type": "stream",
     "text": [
      "================================================================================\n",
      "Your GPU supports bfloat16: accelerate training with bf16=True\n",
      "================================================================================\n"
     ]
    },
    {
     "name": "stderr",
     "output_type": "stream",
     "text": [
      "`low_cpu_mem_usage` was None, now set to True since model is quantized.\n"
     ]
    },
    {
     "data": {
      "application/vnd.jupyter.widget-view+json": {
       "model_id": "87fc2e94ae864908a430e05c41926117",
       "version_major": 2,
       "version_minor": 0
      },
      "text/plain": [
       "Loading checkpoint shards:   0%|          | 0/2 [00:00<?, ?it/s]"
      ]
     },
     "metadata": {},
     "output_type": "display_data"
    }
   ],
   "source": [
    "#################################################################\n",
    "# Tokenizer\n",
    "#################################################################\n",
    "\n",
    "model_name='mistralai/Mistral-7B-Instruct-v0.1'\n",
    "\n",
    "tokenizer = AutoTokenizer.from_pretrained(model_name, trust_remote_code=True)\n",
    "tokenizer.pad_token = tokenizer.eos_token\n",
    "tokenizer.padding_side = \"right\"\n",
    "\n",
    "#################################################################\n",
    "# bitsandbytes parameters\n",
    "#################################################################\n",
    "\n",
    "# Activate 4-bit precision base model loading\n",
    "use_4bit = True\n",
    "\n",
    "# Compute dtype for 4-bit base models\n",
    "bnb_4bit_compute_dtype = \"float16\"\n",
    "\n",
    "# Quantization type (fp4 or nf4)\n",
    "bnb_4bit_quant_type = \"nf4\"\n",
    "\n",
    "# Activate nested quantization for 4-bit base models (double quantization)\n",
    "use_nested_quant = False\n",
    "\n",
    "#################################################################\n",
    "# Set up quantization config\n",
    "#################################################################\n",
    "compute_dtype = getattr(torch, bnb_4bit_compute_dtype)\n",
    "\n",
    "bnb_config = BitsAndBytesConfig(\n",
    "    load_in_4bit=use_4bit,\n",
    "    bnb_4bit_quant_type=bnb_4bit_quant_type,\n",
    "    bnb_4bit_compute_dtype=compute_dtype,\n",
    "    bnb_4bit_use_double_quant=use_nested_quant,\n",
    ")\n",
    "\n",
    "# Check GPU compatibility with bfloat16\n",
    "if compute_dtype == torch.float16 and use_4bit:\n",
    "    major, _ = torch.cuda.get_device_capability()\n",
    "    if major >= 8:\n",
    "        print(\"=\" * 80)\n",
    "        print(\"Your GPU supports bfloat16: accelerate training with bf16=True\")\n",
    "        print(\"=\" * 80)\n",
    "\n",
    "#################################################################\n",
    "# Load pre-trained config\n",
    "#################################################################\n",
    "model = AutoModelForCausalLM.from_pretrained(\n",
    "    model_name,\n",
    "    quantization_config=bnb_config,\n",
    ")"
   ]
  },
  {
   "cell_type": "code",
   "execution_count": 3,
   "id": "d8b71fc8-2023-4c1f-b5f2-fc54e11128ca",
   "metadata": {},
   "outputs": [
    {
     "name": "stdout",
     "output_type": "stream",
     "text": [
      "trainable model parameters: 262410240\n",
      "all model parameters: 3752071168\n",
      "percentage of trainable model parameters: 6.99%\n"
     ]
    }
   ],
   "source": [
    "def print_number_of_trainable_model_parameters(model):\n",
    "    trainable_model_params = 0\n",
    "    all_model_params = 0\n",
    "    for _, param in model.named_parameters():\n",
    "        all_model_params += param.numel()\n",
    "        if param.requires_grad:\n",
    "            trainable_model_params += param.numel()\n",
    "    return f\"trainable model parameters: {trainable_model_params}\\nall model parameters: {all_model_params}\\npercentage of trainable model parameters: {100 * trainable_model_params / all_model_params:.2f}%\"\n",
    "\n",
    "print(print_number_of_trainable_model_parameters(model))"
   ]
  },
  {
   "cell_type": "code",
   "execution_count": 4,
   "id": "98313f27-3353-4dc5-a58e-cfbdcae677f5",
   "metadata": {},
   "outputs": [],
   "source": [
    "text_generation_pipeline = pipeline(\n",
    "    model=model,\n",
    "    tokenizer=tokenizer,\n",
    "    task=\"text-generation\",\n",
    "    do_sample=True,\n",
    "    temperature=0.01,\n",
    "    repetition_penalty=1.1,\n",
    "    return_full_text=True,\n",
    "    max_new_tokens=8912,\n",
    ")"
   ]
  },
  {
   "cell_type": "code",
   "execution_count": 5,
   "id": "9a57e046-650d-42a4-8a14-3ce30596193d",
   "metadata": {},
   "outputs": [],
   "source": [
    "mistral_llm = HuggingFacePipeline(pipeline=text_generation_pipeline)"
   ]
  },
  {
   "cell_type": "code",
   "execution_count": 6,
   "id": "f0099182-860b-494e-baba-c2935120f683",
   "metadata": {},
   "outputs": [
    {
     "data": {
      "text/html": [
       "<div>\n",
       "<style scoped>\n",
       "    .dataframe tbody tr th:only-of-type {\n",
       "        vertical-align: middle;\n",
       "    }\n",
       "\n",
       "    .dataframe tbody tr th {\n",
       "        vertical-align: top;\n",
       "    }\n",
       "\n",
       "    .dataframe thead th {\n",
       "        text-align: right;\n",
       "    }\n",
       "</style>\n",
       "<table border=\"1\" class=\"dataframe\">\n",
       "  <thead>\n",
       "    <tr style=\"text-align: right;\">\n",
       "      <th></th>\n",
       "      <th>Name</th>\n",
       "      <th>Price</th>\n",
       "      <th>unit</th>\n",
       "      <th>Type</th>\n",
       "      <th>Genric name</th>\n",
       "      <th>Company name</th>\n",
       "      <th>Description</th>\n",
       "    </tr>\n",
       "  </thead>\n",
       "  <tbody>\n",
       "    <tr>\n",
       "      <th>0</th>\n",
       "      <td>Rivotril0.5 mg</td>\n",
       "      <td>Tk 8.28</td>\n",
       "      <td>/piece</td>\n",
       "      <td>Tablet</td>\n",
       "      <td>Clonazepam</td>\n",
       "      <td>Radiant Pharmaceuticals Ltd.</td>\n",
       "      <td>Medicine overviewEnglishIndications of Rivotri...</td>\n",
       "    </tr>\n",
       "    <tr>\n",
       "      <th>1</th>\n",
       "      <td>Montair10 mg</td>\n",
       "      <td>Tk 157.50</td>\n",
       "      <td>/10's Strip</td>\n",
       "      <td>Tablet</td>\n",
       "      <td>Montelukast</td>\n",
       "      <td>Incepta Pharmaceuticals Ltd.</td>\n",
       "      <td>Medicine overviewEnglishIndications of Montair...</td>\n",
       "    </tr>\n",
       "    <tr>\n",
       "      <th>2</th>\n",
       "      <td>Bislol5 mg</td>\n",
       "      <td>Tk 144.90</td>\n",
       "      <td>/14's Strip</td>\n",
       "      <td>Tablet</td>\n",
       "      <td>Bisoprolol Fumarate</td>\n",
       "      <td>Opsonin Pharma Ltd.</td>\n",
       "      <td>Medicine overviewEnglishIndications of Bislol ...</td>\n",
       "    </tr>\n",
       "    <tr>\n",
       "      <th>3</th>\n",
       "      <td>Rosuva5 mg</td>\n",
       "      <td>Tk 90.27</td>\n",
       "      <td>/10's Strip</td>\n",
       "      <td>Tablet</td>\n",
       "      <td>Rosuvastatin</td>\n",
       "      <td>Square Pharmaceuticals Ltd.</td>\n",
       "      <td>&lt;img alt=\"Section\" srcSet=\"/icons/note.svg 1x,...</td>\n",
       "    </tr>\n",
       "    <tr>\n",
       "      <th>4</th>\n",
       "      <td>Clopid75 mg</td>\n",
       "      <td>Tk 151.20</td>\n",
       "      <td>/14's Strip</td>\n",
       "      <td>Tablet</td>\n",
       "      <td>Clopidogrel Bisulphate</td>\n",
       "      <td>Drug International Ltd.</td>\n",
       "      <td>&lt;img alt=\"Section\" srcSet=\"/icons/note.svg 1x,...</td>\n",
       "    </tr>\n",
       "    <tr>\n",
       "      <th>...</th>\n",
       "      <td>...</td>\n",
       "      <td>...</td>\n",
       "      <td>...</td>\n",
       "      <td>...</td>\n",
       "      <td>...</td>\n",
       "      <td>...</td>\n",
       "      <td>...</td>\n",
       "    </tr>\n",
       "    <tr>\n",
       "      <th>5338</th>\n",
       "      <td>Pantonix20 mg</td>\n",
       "      <td>Tk 6.30</td>\n",
       "      <td>/piece</td>\n",
       "      <td>Tablet</td>\n",
       "      <td>Pantoprazole</td>\n",
       "      <td>Incepta Pharmaceuticals Ltd.</td>\n",
       "      <td>&lt;img alt=\"Section\" srcSet=\"/icons/note.svg 1x,...</td>\n",
       "    </tr>\n",
       "    <tr>\n",
       "      <th>5339</th>\n",
       "      <td>Ecosprin75 mg</td>\n",
       "      <td>Tk 7.20</td>\n",
       "      <td>/10's Strip</td>\n",
       "      <td>Tablet</td>\n",
       "      <td>Aspirin</td>\n",
       "      <td>ACME Laboratories Ltd.</td>\n",
       "      <td>&lt;img alt=\"Section\" srcSet=\"/icons/note.svg 1x,...</td>\n",
       "    </tr>\n",
       "    <tr>\n",
       "      <th>5340</th>\n",
       "      <td>Monas 1010 mg</td>\n",
       "      <td>Tk 236.25</td>\n",
       "      <td>/15's Strip</td>\n",
       "      <td>Tablet</td>\n",
       "      <td>Montelukast</td>\n",
       "      <td>ACME Laboratories Ltd.</td>\n",
       "      <td>&lt;img alt=\"Section\" srcSet=\"/icons/note.svg 1x,...</td>\n",
       "    </tr>\n",
       "    <tr>\n",
       "      <th>5341</th>\n",
       "      <td>Linaglip5 mg</td>\n",
       "      <td>Tk 198.00</td>\n",
       "      <td>/10's Strip</td>\n",
       "      <td>Tablet</td>\n",
       "      <td>Linagliptin</td>\n",
       "      <td>Aristopharma Ltd.</td>\n",
       "      <td>&lt;img alt=\"Section\" srcSet=\"/icons/note.svg 1x,...</td>\n",
       "    </tr>\n",
       "    <tr>\n",
       "      <th>5342</th>\n",
       "      <td>Sergel20 mg</td>\n",
       "      <td>Tk 6.30</td>\n",
       "      <td>/piece</td>\n",
       "      <td>Capsule</td>\n",
       "      <td>Esomeprazole Magnesium Trihydrate</td>\n",
       "      <td>Healthcare Pharmacuticals Ltd.</td>\n",
       "      <td>&lt;img alt=\"Section\" srcSet=\"/icons/note.svg 1x,...</td>\n",
       "    </tr>\n",
       "  </tbody>\n",
       "</table>\n",
       "<p>5343 rows × 7 columns</p>\n",
       "</div>"
      ],
      "text/plain": [
       "                Name      Price         unit     Type  \\\n",
       "0     Rivotril0.5 mg    Tk 8.28       /piece   Tablet   \n",
       "1       Montair10 mg  Tk 157.50  /10's Strip   Tablet   \n",
       "2         Bislol5 mg  Tk 144.90  /14's Strip   Tablet   \n",
       "3         Rosuva5 mg   Tk 90.27  /10's Strip   Tablet   \n",
       "4        Clopid75 mg  Tk 151.20  /14's Strip   Tablet   \n",
       "...              ...        ...          ...      ...   \n",
       "5338   Pantonix20 mg    Tk 6.30       /piece   Tablet   \n",
       "5339   Ecosprin75 mg    Tk 7.20  /10's Strip   Tablet   \n",
       "5340   Monas 1010 mg  Tk 236.25  /15's Strip   Tablet   \n",
       "5341    Linaglip5 mg  Tk 198.00  /10's Strip   Tablet   \n",
       "5342     Sergel20 mg    Tk 6.30       /piece  Capsule   \n",
       "\n",
       "                            Genric name                    Company name  \\\n",
       "0                            Clonazepam    Radiant Pharmaceuticals Ltd.   \n",
       "1                           Montelukast    Incepta Pharmaceuticals Ltd.   \n",
       "2                   Bisoprolol Fumarate             Opsonin Pharma Ltd.   \n",
       "3                          Rosuvastatin     Square Pharmaceuticals Ltd.   \n",
       "4                Clopidogrel Bisulphate         Drug International Ltd.   \n",
       "...                                 ...                             ...   \n",
       "5338                       Pantoprazole    Incepta Pharmaceuticals Ltd.   \n",
       "5339                            Aspirin          ACME Laboratories Ltd.   \n",
       "5340                        Montelukast          ACME Laboratories Ltd.   \n",
       "5341                        Linagliptin               Aristopharma Ltd.   \n",
       "5342  Esomeprazole Magnesium Trihydrate  Healthcare Pharmacuticals Ltd.   \n",
       "\n",
       "                                            Description  \n",
       "0     Medicine overviewEnglishIndications of Rivotri...  \n",
       "1     Medicine overviewEnglishIndications of Montair...  \n",
       "2     Medicine overviewEnglishIndications of Bislol ...  \n",
       "3     <img alt=\"Section\" srcSet=\"/icons/note.svg 1x,...  \n",
       "4     <img alt=\"Section\" srcSet=\"/icons/note.svg 1x,...  \n",
       "...                                                 ...  \n",
       "5338  <img alt=\"Section\" srcSet=\"/icons/note.svg 1x,...  \n",
       "5339  <img alt=\"Section\" srcSet=\"/icons/note.svg 1x,...  \n",
       "5340  <img alt=\"Section\" srcSet=\"/icons/note.svg 1x,...  \n",
       "5341  <img alt=\"Section\" srcSet=\"/icons/note.svg 1x,...  \n",
       "5342  <img alt=\"Section\" srcSet=\"/icons/note.svg 1x,...  \n",
       "\n",
       "[5343 rows x 7 columns]"
      ]
     },
     "execution_count": 6,
     "metadata": {},
     "output_type": "execute_result"
    }
   ],
   "source": [
    "import pandas as pd\n",
    "\n",
    "df = pd.read_csv(r\"C:\\Users\\20301162\\Downloads\\Medeasy.csv\", encoding=\"UTF-8\")\n",
    "df = df.drop('web-scraper-order', axis=1)\n",
    "df = df.drop('web-scraper-start-url', axis=1)\n",
    "df = df.drop('Next', axis=1)\n",
    "df = df.drop('links', axis=1)\n",
    "df = df.drop('links-href', axis=1)\n",
    "\n",
    "\n",
    "df"
   ]
  },
  {
   "cell_type": "code",
   "execution_count": 7,
   "id": "143d023e-0f8d-4176-8eb8-05a1549006e5",
   "metadata": {},
   "outputs": [],
   "source": [
    "import re"
   ]
  },
  {
   "cell_type": "code",
   "execution_count": 8,
   "id": "5a98d384-96cd-449a-a7e2-f5f63f9bbc87",
   "metadata": {},
   "outputs": [
    {
     "name": "stderr",
     "output_type": "stream",
     "text": [
      "C:\\Users\\20301162\\AppData\\Local\\Temp\\ipykernel_18124\\1814255018.py:27: SettingWithCopyWarning: \n",
      "A value is trying to be set on a copy of a slice from a DataFrame.\n",
      "Try using .loc[row_indexer,col_indexer] = value instead\n",
      "\n",
      "See the caveats in the documentation: https://pandas.pydata.org/pandas-docs/stable/user_guide/indexing.html#returning-a-view-versus-a-copy\n",
      "  df['Description'] = df['Description'].apply(special_char)\n",
      "C:\\Users\\20301162\\AppData\\Local\\Temp\\ipykernel_18124\\1814255018.py:28: SettingWithCopyWarning: \n",
      "A value is trying to be set on a copy of a slice from a DataFrame.\n",
      "Try using .loc[row_indexer,col_indexer] = value instead\n",
      "\n",
      "See the caveats in the documentation: https://pandas.pydata.org/pandas-docs/stable/user_guide/indexing.html#returning-a-view-versus-a-copy\n",
      "  df['Description'] = df['Description'].apply(scrape_links)\n"
     ]
    }
   ],
   "source": [
    "from langchain_community.document_loaders import DataFrameLoader\n",
    "s_chars = '¥₽ÏïŰŬĎŸæ₿₪ÚŇÀèÅ”ĜåŽÖéříÿý€ŝĤ₹áŜŮÂ₴ûÌÇšŘúüëÓ₫ŠčÎŤÆÒœ₩öËäøÍťìĈôàĥÝ¢ç“žðÙÊĉŭÈŒÐÉÔĵùÁů„âÄűĴóêĝÞîØòď฿ČÜþňÛ'\n",
    "PUNC = '+@«#_\\-!$%%^&*¬()£<>?/\\\\|}\\]\\[{;\\,~:\\\"\\''\n",
    "def special_char(text):\n",
    "    # first, let's remove any unicode strings\n",
    "    text = text.encode('ascii', 'ignore').decode()\n",
    "    # remove printable bachslashes\n",
    "    text = re.sub(r'[\\t\\s\\n\\r\\b\\a]', ' ', text)\n",
    "    # Special letters\n",
    "    text = re.sub(r'[{}]'.format(s_chars), '', text)\n",
    "    # Punctuation [remove punctuation between spaces only which represent noises]\n",
    "    text = re.sub(r'\\s[{}]\\s'.format(PUNC), ' ', text)\n",
    "    # space at the start or the end of the context\n",
    "    text = re.sub(r'(^\\s)|(\\s$)', '', text)\n",
    "    # Single character\n",
    "    text = re.sub(r'(\\s[^iIaA]\\s)', ' ', text)\n",
    "    return text\n",
    "def scrape_links(text):\n",
    "    url = re.compile(r'https?://\\S+|www\\.\\S+')\n",
    "    return url.sub(r'',text)\n",
    "\n",
    "\n",
    "\n",
    "df = df[df['Description'].str.isdigit() == False]\n",
    "\n",
    "# Apply the special_char and scrape_links functions\n",
    "df['Description'] = df['Description'].apply(special_char)\n",
    "df['Description'] = df['Description'].apply(scrape_links)\n"
   ]
  },
  {
   "cell_type": "code",
   "execution_count": 9,
   "id": "a06f8b45-26a4-4129-b95e-e23da9a1ed51",
   "metadata": {},
   "outputs": [
    {
     "data": {
      "text/html": [
       "<div>\n",
       "<style scoped>\n",
       "    .dataframe tbody tr th:only-of-type {\n",
       "        vertical-align: middle;\n",
       "    }\n",
       "\n",
       "    .dataframe tbody tr th {\n",
       "        vertical-align: top;\n",
       "    }\n",
       "\n",
       "    .dataframe thead th {\n",
       "        text-align: right;\n",
       "    }\n",
       "</style>\n",
       "<table border=\"1\" class=\"dataframe\">\n",
       "  <thead>\n",
       "    <tr style=\"text-align: right;\">\n",
       "      <th></th>\n",
       "      <th>Name</th>\n",
       "      <th>Price</th>\n",
       "      <th>unit</th>\n",
       "      <th>Type</th>\n",
       "      <th>Genric name</th>\n",
       "      <th>Company name</th>\n",
       "      <th>Description</th>\n",
       "    </tr>\n",
       "  </thead>\n",
       "  <tbody>\n",
       "    <tr>\n",
       "      <th>0</th>\n",
       "      <td>Rivotril0.5 mg</td>\n",
       "      <td>Tk 8.28</td>\n",
       "      <td>/piece</td>\n",
       "      <td>Tablet</td>\n",
       "      <td>Clonazepam</td>\n",
       "      <td>Radiant Pharmaceuticals Ltd.</td>\n",
       "      <td>Medicine overviewEnglishIndications of Rivotri...</td>\n",
       "    </tr>\n",
       "  </tbody>\n",
       "</table>\n",
       "</div>"
      ],
      "text/plain": [
       "             Name    Price    unit    Type Genric name  \\\n",
       "0  Rivotril0.5 mg  Tk 8.28  /piece  Tablet  Clonazepam   \n",
       "\n",
       "                   Company name  \\\n",
       "0  Radiant Pharmaceuticals Ltd.   \n",
       "\n",
       "                                         Description  \n",
       "0  Medicine overviewEnglishIndications of Rivotri...  "
      ]
     },
     "execution_count": 9,
     "metadata": {},
     "output_type": "execute_result"
    }
   ],
   "source": [
    "df.head(1)"
   ]
  },
  {
   "cell_type": "code",
   "execution_count": 10,
   "id": "9ff63260-635e-4e9c-9ab9-5119c1db4dcf",
   "metadata": {},
   "outputs": [],
   "source": [
    "loader = DataFrameLoader(df, page_content_column=\"Name\")\n",
    "data = loader.load()"
   ]
  },
  {
   "cell_type": "code",
   "execution_count": 11,
   "id": "c2930031-3cee-4f20-9fb2-01e6f30b0c23",
   "metadata": {},
   "outputs": [],
   "source": [
    "from langchain_text_splitters import RecursiveCharacterTextSplitter\n",
    "\n",
    "# Chunk text\n",
    "text_splitter = RecursiveCharacterTextSplitter(\n",
    "    \n",
    "    chunk_size=6000,\n",
    "    chunk_overlap=0,\n",
    "    length_function=len,\n",
    "    is_separator_regex=False,\n",
    ")\n",
    "chunked_documents = text_splitter.split_documents(data)\n",
    "\n",
    "# Load chunked documents into the FAISS index\n",
    "db = FAISS.from_documents(chunked_documents, \n",
    "                          HuggingFaceEmbeddings(model_name=\"intfloat/e5-large-v2\"))\n",
    "\n",
    "retriever = db.as_retriever()"
   ]
  },
  {
   "cell_type": "code",
   "execution_count": null,
   "id": "d779bd99-bf8f-4707-a02f-29553f6d25cc",
   "metadata": {},
   "outputs": [],
   "source": []
  },
  {
   "cell_type": "code",
   "execution_count": 12,
   "id": "d109b5d6-5e04-4fe4-bdd4-6d8bf2169941",
   "metadata": {},
   "outputs": [],
   "source": [
    "prompt_template = \"\"\"\n",
    "\n",
    "[INST] Instruction: If you are a Bangladeshi doctor, who can only answer from medical knowledge provided in the context. Do not introduce any additional information beyond what is given in the context.\n",
    "\n",
    "{context}\n",
    "\n",
    "QUESTION:\n",
    "\n",
    "{question}\n",
    "\n",
    "[INST]\n",
    "\n",
    "To provide a thorough and accurate medical answer based on the context:\n",
    "\n",
    "1.Explain the relevant medical concepts, conditions, and treatments mentioned in the context in detail, using proper medical terminology.\n",
    "2.If the context discusses side effects or scenarios where medicine should not be used, include that information for the applicable medical options or courses of action. If dosages are mentioned, include those as well.\n",
    "3.If the context provides pricing information for any medicines in Bangladeshi taka, include the price and brand name exactly as stated.\n",
    "4.Only discuss Medicines that are explicitly mentioned and described in the provided context.\n",
    "5.Also mention the company name, tablet type and others.\n",
    "6. Do not ask any follow up questions.\n",
    "[/INST]\n",
    "\n",
    "\"\"\"\n",
    "# Create prompt from prompt template \n",
    "prompt = PromptTemplate(\n",
    "    input_variables=[\"context\", \"question\"],\n",
    "    template=prompt_template,\n",
    ")\n",
    "\n",
    "# Create llm chain \n",
    "llm_chain = LLMChain(llm=mistral_llm, prompt=prompt)"
   ]
  },
  {
   "cell_type": "code",
   "execution_count": 13,
   "id": "83e1ace1-dab4-433c-9b59-38f1bb8718dd",
   "metadata": {},
   "outputs": [
    {
     "name": "stderr",
     "output_type": "stream",
     "text": [
      "Setting `pad_token_id` to `eos_token_id`:2 for open-end generation.\n"
     ]
    }
   ],
   "source": [
    "result1 = llm_chain.invoke({\"context\": \"\", \"question\": \"I am feeling backpain when I sit what medicine should I take?\"})"
   ]
  },
  {
   "cell_type": "code",
   "execution_count": 14,
   "id": "983e2a78-1516-46b9-9ae8-83fcb3e22bb6",
   "metadata": {},
   "outputs": [
    {
     "name": "stderr",
     "output_type": "stream",
     "text": [
      "Setting `pad_token_id` to `eos_token_id`:2 for open-end generation.\n"
     ]
    }
   ],
   "source": [
    "rag_chain = ( \n",
    " {\"context\": retriever, \"question\": RunnablePassthrough()}\n",
    "    | llm_chain\n",
    ")\n",
    "\n",
    "result = rag_chain.invoke(\"I am feeling backpain when I sit what medicine should I take?\")"
   ]
  },
  {
   "cell_type": "code",
   "execution_count": 15,
   "id": "d5fd4da2-a994-4b17-b917-a4df7f341c19",
   "metadata": {},
   "outputs": [],
   "source": [
    "\n",
    "\n",
    "def prnt(text):\n",
    "    parts = text.split(\"[/INST]\")\n",
    "    if len(parts) > 1:\n",
    "        output = parts[1].strip()\n",
    "        print(output)"
   ]
  },
  {
   "cell_type": "code",
   "execution_count": 18,
   "id": "4e89cb76-3354-4800-ba61-28a80187b4b7",
   "metadata": {},
   "outputs": [
    {
     "data": {
      "text/plain": [
       "'\\n\\n[INST] Instruction: If you are a Bangladeshi doctor, who can only answer from medical knowledge provided in the context. Do not introduce any additional information beyond what is given in the context.\\n\\n[Document(page_content=\\'Ketosteril.\\', metadata={\\'Price\\': \\'Tk 931.00\\', \\'unit\\': \"/20\\'s strip\", \\'Type\\': \\'Tablet\\', \\'Genric name\\': \\'Amino acid + Calcium\\', \\'Company name\\': \\'Janata Traders\\', \\'Description\\': \\'<img alt=\"Section\" srcSet=\"/icons/note.svg 1x, /icons/note.svg 2x\" src=\"/icons/note.svg\" decoding=\"async\" data-nimg=\"intrinsic\" style=\"position:absolute;top:0;left:0;bottom:0;right:0;box-sizing:border-box;padding:0;border:none;margin:auto;display:block;width:0;height:0;min-width:100%;max-width:100%;min-height:100%;max-height:100%\" loading=\"lazy\"/>Medicine overviewEnglishIndications of Ketosteril .Prevention and therapy of damages due to faulty or deficient protein metabolism in chronic renal insufficiency in connection with limited protein in food of 40 g/day (for adults) ie, generally in patients with a glomerular filtration rate (GFR) 25 mL/minutes.CompositionEach film-coated tablet contains:  (RS)-3-methyl-2-oxovaleric acid (-ketoanalogue to DL-isoleucine), calcium-salt: 67 mg 4-methyl-2-oxovaleric acid (-ketoanalogue to leucine), calcium-salt: 101 mg 2-oxo-3-phenylpropionic acid (-ketoanalogue to phenylalanine), calcium-salt: 68 mg 3-methyl-2-oxobutyric acid (-ketoanalogue to valine), calcium salt: 86 mg (RS)-2-hydroxy-4-methylthio-butyric acid (-hydroxyanalogue to DL-methionine), calcium-salt: 59 mg L-lysine acetate corresponding to 75 mg L-lysine: 105 mg L-threonine: 53 mg L-tryptophan: 23 mg L-histidine: 38 mg L-tyrosine: 30 mg Total nitrogen content per tablet: 36 mg Calcium content per tablet: 50 mg. Theropeutic ClassDrugs used in chronic kidney dialysisPharmacologyThis tablet allows the intake of essential amino acids while minimising the amino-nitrogen intake. Following absorption, the keto- and hydroxy-analogues are transaminated to the corresponding essential amino acids by taking nitrogen from non-essential amino acids, therby decreasing the formation of urea by re-using the amino group. Hence, the accumulation of uraemic toxins is reduced. Keto and hydroxy acids do not induce hyperfiltration of the residual nephrons. Ketoacid containing supplements exert positive effect on renal hyper phosphataemia and secondary hyperparathyroidism. Moreover, renal osteodystrophy may be improved. The use of this tablet in combination with a very low protein diet allows to reduce nitrogen intake while preventing the deleterious consequences of inadequate dietary protein intake and malnutrition.Dosage Administration of Ketosteril .Adults (70 kg body weight): If not otherwise prescribed, take to tablets three times a day during meals. Swallow whole and must not be chewed. Ingestion during meals facilitates proper absorption and the metabolisation into the corresponding amino acids.Duration of Application: This tablets are given as long as the glomerular filtration rate (GFR) is between and about 15 mL/minute. Simultaneously food should contain 40 g/day protein or less (adults).Dosage of Ketosteril .Adults (70 kg body weight): If not otherwise prescribed, take to tablets three times a day during meals. Swallow whole and must not be chewed. Ingestion during meals facilitates proper absorption and the metabolisation into the corresponding amino acids.Duration of Application: This tablets are given as long as the glomerular filtration rate (GFR) is between and about 15 mL/minute. Simultaneously food should contain 40 g/day protein or less (adults).Interaction of Ketosteril Concomitant administration of calcium-containing drugs may cause or aggravate elevated serum calcium levels. Drugs that form hardly soluble compounds with calcium (e.g. tetracyclines, quinolines such as ciprofloxacin and norfloxacin as well as drugs containing iron, fluoride or estramustine) should not be taken at the same time with this tablet to avoid disturbed absorption of the active substances. An interval of at least two hours should elapse between the ingestion of this tablet and these drugs. The susceptibility to cardioactive glycosides, and hence the risk for arrhythmia will increase if this tablet produces elevated serum calcium levels. Uraemic symptoms improve under therapy with this tablet. Thus, in case of aluminium hydroxide administration, the dose of this drug has to be reduced if necessary. Serum phosphate levels should be monitored for a decrease. ContraindicationsHypersensitivity to the active substances or to any of the excipients. Hypercalcaemia. Disturbed amino acid metabolism.Side Effects of Ketosteril .Hypercalcemia may develop. In this case it is recommended to decrease Vitamin intake. If hypercalcaemia persists, reduce the dosage of this tablet as well as other source of calcium. The serum calcium level should be monitored regularly. Ensure sufficient calorie intake. No experience has been gained so far with the administration in paediatric patients.Pregnancy LactationThere are no adequate data from the use of this tablet in pregnant women. Animal studies do not indicate direct or indirect harmful effects with respect to pregnancy, embryonal/foetal development, parturition or postnatal development. Caution should be exercised when prescribing to pregnant women. No experience has been made so far with the use during lactation. No case of overdose has been reported.Precautions Warnings The serum calcium level should be monitored regularly. Ensure sufficient calorie intake. In the presence of hereditary phenylketonuria, attention should be given to the fact that this tablet contains phenylalanine. Monitoring of the serum phosphate levels is needed in case of concomitant administration of aluminium hydroxide. Storage ConditionsDo not store above 30 C. Store in the original package and keep the blisters tightly closed to protect contents from moisture.Drug ClassesDrugs used in chronic kidney dialysisMode Of ActionThis tablet allows the intake of essential amino acids while minimising the amino-nitrogen intake. Following absorption, the keto- and hydroxy-analogues are transaminated to the corresponding essential amino acids by taking nitrogen from non-essential amino acids, therby decreasing the formation of urea by re-using the amino group. Hence, the accumulation of uraemic toxins is reduced. Keto and hydroxy acids do not induce hyperfiltration of the residual nephrons. Ketoacid containing supplements exert positive effect on renal hyper phosphataemia and secondary hyperparathyroidism. Moreover, renal osteodystrophy may be improved. The use of this tablet in combination with a very low protein diet allows to reduce nitrogen intake while preventing the deleterious consequences of inadequate dietary protein intake and malnutrition.PregnancyThere are no adequate data from the use of this tablet in pregnant women. Animal studies do not indicate direct or indirect harmful effects with respect to pregnancy, embryonal/foetal development, parturition or postnatal development. Caution should be exercised when prescribing to pregnant women. No experience has been made so far with the use during lactation. No case of overdose has been reported.\\'}), Document(page_content=\\'Sliptin-M50 mg+1000 mg\\', metadata={\\'Price\\': \\'Tk 119.70\\', \\'unit\\': \"/7\\'s Strip\", \\'Type\\': \\'Tablet\\', \\'Genric name\\': \\'Sitagliptin + Metformin Hydrochloride\\', \\'Company name\\': \\'Drug International Ltd.\\', \\'Description\\': \"Medicine overviewEnglishIndications of Sliptin-M 50 mg+1000 mgSliptin-M 50 mg+1000 mg is a combination of two medicines that control high blood sugar levels in people with type diabetes mellitus. This helps prevent serious complications of diabetes such as kidney damage and blindness and may reduce your chance of having a heart attack or stroke. Sliptin-M 50 mg+1000 mg can be prescribed alone or together with other diabetes medications. All diabetes medicines work best when used along with a healthy diet and regular exercise. The dose you are given will depend on your condition, blood sugar levels and what other medicines you are taking. Taking it with meals helps to reduce the chances of developing an upset stomach. You should take it regularly, at the same time each day, to get the most benefit and you should not stop unless your doctor recommends it. It is controlling your blood sugar levels and helping to prevent serious complications in the future. It is important to stay on the diet and exercise program recommended by your doctor while taking this medicine. Your lifestyle plays a big part in controlling diabetes. The most common side effects of taking this medicine include diarrhea, nausea, vomiting, upset stomach, headache, and sore throat. Low blood sugar level (hypoglycemia) is a possible side effect if you are also taking other diabetes medicines like insulin or sulfonylurea, so you need to know how to recognize and deal with it. This medicine is not suitable for everyone. Before taking it, you should let your doctor know if you have ever had kidney, liver or heart disease, problems with your pancreas, or if you drink a lot of alcohol. Pregnant or breastfeeding women should also consult their doctor before taking this medicine. Some other medicines can affect this one so tell your doctor about all the medicines you are taking to make sure you are safe. You should try to avoid drinking alcohol as it lowers blood glucose. Your doctor will check your kidney function and blood sugar levels before and during treatment.Theropeutic ClassCombination Oral hypoglycemic preparationsPharmacologySitagliptin: The DPP-4 inhibitors are a class of agents that act as incretin enhancers. By inhibiting the DPP-4 enzyme, Sitagliptin increases the levels of two known active incretin hormones, glucagon-like peptide-1 (GLP-1) and glucose-dependent insulinotropic polypeptide (GIP). The incretins are part of an endogenous system involved in the physiologic regulation of glucose homeostasis. When blood glucose concentrations are normal or elevated, GLP-1 and GIP increase insulin synthesis and release from pancreatic beta cells. GLP-1 also lowers glucagon secretion from pancreatic alpha cells, leading to reduced hepatic glucose production. This mechanism is unlike the mechanism seen with sulfonylureas; sulfonylureas cause insulin release even when glucose levels are low, which can lead to sulfonylurea-induced hypoglycemia in patients with type ll diabetes and in normal subjects. Sitagliptin demonstrates high selectivity for DPP-4 and does not inhibit closely-related enzymes DPP-8 or DPP-9 at therapeutic concentrations.Metformin is an antihyperglycemic agent which improves glucose tolerance in patients with type diabetes, lowering both basal and postprandial plasma glucose. Metformin reduces hepatic glucose production by inhibiting gluconeogenesis and glycogenolysis, and stimulates intracellular glycogen synthesis by acting on glycogen synthase. In muscle, it increases insulin sensitivity, improving peripheral glucose uptake and utilization. Metformin also delays intestinal glucose absorption. Unlike sulfonylureas, metformin does not produce hypoglycemia in either patients with type diabetes or normal subjects and does not cause hyperinsulinemia. With metformin therapy, insulin secretion remains unchanged while fasting insulin levels and daylong plasma insulin response may actually decrease.Dosage Administration of Sliptin-M 50 mg+1000 mgThe dosage of Sitagliptin Metformin should be individualized on the basis of the patient\\'s current regimen, effectiveness, and tolerability while not exceeding the maximum recommended daily dose of 100 mg sitagliptin and 2000 mg metformin. Initial combination therapy or maintenance of combination therapy should be individualized and left to the discretion of the health care provider.Sitagliptin Metformin should generally be given twice daily with meals, with gradual dose escalation, to reduce the gastrointestinal (GI) side effects due to metformin. The starting dose of Sitagliptin Metformin should be based on the patient\\'s current regimen. The recommended starting dose in patients NOT currently treated with metformin is 50 mg sitagliptin/500 mg metformin hydrochloride twice daily, with gradual dose escalation recommended to reduce gastrointestinal side effects associated with metformin.The starting dose in patients already treated with metformin should provide sitagliptin dosed as 50 mg twice daily (100 mg total daily dose) and the dose of metformin already being taken. For patients taking metformin 850 mg twice daily, the recommended starting dose of Sitagliptin Metforminis 50 mg sitagliptin/1000 mg metformin hydrochloride twice daily. Co-administration of Sitagliptin Metformin with an insulin secretagogue (e.g., sulfonylurea) or insulin may require lower doses of the insulin secretagogue or insulin to reduce the risk of hypoglycemia. No studies have been performed specifically examining the safety and efficacy of Sitagliptin Metformin in patientspreviously treated with other oral antihyperglycemic agents and switched to Sitagliptin Metformin. Any change in therapy of type diabetes should be undertaken with care and appropriate monitoring as changes in glycemic control can occurDosage of Sliptin-M 50 mg+1000 mgDose of film-coated tablet: The dosage of this tablet should be individualized on the basis of the patient\\'s current regimen, efectiveness, and tolerability while not exceeding the maximum recommended daily dose of 100 mg sitagliptin and 2000 mg metformin. Initial combination therapy or maintenance of combination therapy should be individualized and left to the discretion of the health care provider.This tablet should generally be given twice daily with meals, with gradual dose escalation, to reduce the gastrointestinal (GI) side efects due to metformin.The starting dose of this tablet should be based on the patients current regimen. This tablet should be given twice daily with meals.The recommended starting dose in patients not currently treated with metformin is 50 mg sitagliptin/500 mg metformin hydrochloride twice daily, with gradual dose escalation recommended to reduce gastrointestinal side efects associated with metformin.The starting dose in patients already treated with metformin should provide sitagliptin dosed as 50 mg twice daily (100 mg total daily dose) and the dose of metformin already being taken. For patients taking metformin 850 mg twice daily, the recommended starting dose of this tablet is 50 mg sitagliptin/1000 mg metformin hydrochloride twice daily.No studies have been performed specifcally examining the safety and efcacy of Sitagliptin Phosphate Monohydrate INN/Metformin Hydrochloride BP in patients previously treated with other oral antihyperglycemic agents and switched to Sitagliptin Phosphate Monohydrate INN/Metformin Hydrochloride BP. Any change in therapy of type diabetes should be undertaken with care and appropriate monitoring as changes in glycemic control can occur.Dose of extended-release tablet: Administer once daily with a meal preferably in the evening. Gradually escalate the dose to reduce the gastrointestinal side effects due to Metformin. May adjust the dosing based on effectiveness and tolerability while not exceeding the maximum recommended daily dose of 100 mg Sitagliptin and 2000 mg Metformin extended-release. Maintain the same total daily dose of Sitagliptin and Metformin when changing between film-coated tablet and extended-release tablet, without exceeding the maximum recommended daily dose of 2000 mg Metformin extended-release.Patients using two extended-release tablets (such as two 50/500 or two 50/1000 tablets) should take the two tablets together once daily. The 100 mg Sitagliptin/1000 mg Metformin HCI extended-release tablet should be taken as a single tablet once daily. Patients treated with an insulin secretagogue or insulin: Co-administration of the combination with an insulin secretagogue (e.g., sulfonylurea) or insulin may require lower doses of the insulin secretagogue or insulin to reduce the risk of hypoglycemia.Interaction of Sliptin-M 50 mg+1000 mgCationic Drugs: Cationic drugs eliminated by renal tubular secretion: Use with caution.Phenprocoumon: Metformin may decrease the anticoagulant effect of phenprocoumon. Therefore, close monitoring of the INR is recommended.Levothyroxine: Levothyroxine can reduce the hypoglycemic effect of metformin. Monitoring of blood glucose levels is recommended, especially when thyroid hormone therapy is initiated or stopped, and the dosage of metformin must be adjusted if necessary.ContraindicationsThis tablet is contraindicated in patients with: Renal disease or renal dysfunction, e.g., as suggested by serum creatinine levels 1.5 mg/dL [males], 1.4 mg/dL [females] or abnormal creatinine clearance which may also result from conditions such as cardiovascular collapse (shock), acute myocardial infarction, and septicemia Acute or chronic metabolic acidosis, including diabetic ketoacidosis, with or without coma. History of a serious hypersensitivity reaction to this tablet or sitagliptin, such as anaphylaxis or angioedema. This tablet should be temporarily discontinued in patients undergoing radiologic studies involving intravascular administration of iodinated contrast materials, because use of such products may result in acute alteration of renal function.Side Effects of Sliptin-M 50 mg+1000 mgThe most common adverse reactions reported in 5% of patients simultaneously started on sitagliptin and metformin and more commonly than in patients treated with placebo were diarrhea, upper respiratory tract infection, and headache.Adverse reactions reported in 5% of patients treated with sitagliptin in combination with sulfonylurea and metformin and more commonly than in patients treated with placebo in combination with sulfonylurea and metformin were hypoglycemia and headache.Hypoglycemia was the only adverse reaction reported in 5% of patients treated with sitagliptin in combination with insulin and metformin and more commonly than in patients treated with placebo in combination with insulin and metformin.Nasopharyngitis was the only adverse reaction reported in 5% of patients treated with sitagliptin monotherapy and more commonly than in patients given placebo.The most common (>5%) adverse reactions due to initiation of metformin therapy are diarrhea, nausea/vomiting, fatulence, abdominal discomfort, indigestion, asthenia, and headache.Pregnancy LactationPregnancy Category B. There are no adequate and well-controlled studies in pregnant women with the combination of Metformin/ Sitagliptin or its individual components; therefore, the safety of the combination in pregnant women is not known. The combination of Sitagliptin Metformin should be used during pregnancy only if clearly needed. Lactation: It is not known whether Sitagliptin is excreted in human milk. Because many drugs are excreted in human milk, caution should be exercised when this combination is administered to a nursing woman.Precautions WarningsLactic Acidosis- Lactic acidosis can occur due to metformin accumulation. The risk increases with conditions such as sepsis, dehydration, excess alcohol intake, hepatic insufciency, renal impairment, and acute congestive heart failure. Symptoms include malaise, myalgias, respiratory distress, increasing somnolence, and nonspecifc abdominal distress. Laboratory abnormalities include low pH, increased anion gap and elevated blood lactate. If acidosis is suspected, discontinue this tablet and hospitalize the patient immediately. Regular monitoring of thyroid-stimulating hormone (TSH) levels is recommended in patients with hypothyroidism. Long-term treatment with metformin has been associated with a decrease in vitamin B12 serum levels which may cause peripheral neuropathy. Monitoring of the vitamin B12 level is recommended. Others- Do not use this tablet in patients with hepatic disease. There have been postmarketing reports of acute renal failure, sometimes requiring dialysis. Before initiating this tablet and at least annually thereafter, assess renal function and verify as normal. There have been postmarketing reports of acute pancreatitis, including fatal and non-fatal hemorrhagic or necrotizing pancreatitis. If pancreatitis is suspected, promptly discontinue this tablet. Measure hematologic parameters annually. Warn patients against excessive alcohol intake. May need to discontinue this tablet and temporarily use insulin during periods of stress and decreased intake of fluids and food as may occur with fever, trauma, infection or surgery. Promptly evaluate patients previously controlled on this tablet who develop laboratory abnormalities or clinical illness for evidence of ketoacidosis or lactic acidosis. When used with an insulin secretagogue (e.g., sulfonylurea) or with insulin, a lower dose of the insulin secretagogue or insulin may be required to reduce the risk of hypoglycemia. There have been postmarketing reports of serious allergic and hypersensitivity reactions in patients treated with sitagliptin (one of the components of this tablet ), such as anaphylaxis, angioedema, and exfoliative skin conditions including Stevens-Johnson syndrome. In such cases, promptly stop this tablet, assess for other potential causes, and institute appropriate monitoring and treatment, and initiate alternative treatment for diabetes. There have been no clinical studies establishing conclusive evidence of macrovascular risk reduction with Sitagliptin Phosphate Monohydrate INN/Metformin Hydrochloride BP or any other anti-diabetic drug.Overdose Effects of Sliptin-M 50 mg+1000 mgSitagliptin: In the event of an overdose, it is reasonable to employ the usual supportive measures, e.g., remove unabsorbed material from the gastrointestinal tract, employ clinical monitoring (including obtaining an electrocardiogram), and institute supportive therapy as indicated by the patient\\'s clinical status. Sitagliptin is modestly dialyzable. Prolonged hemodialysis may be considered if clinically appropriate. It is not known if sitagliptin is dialyzable by peritoneal dialysis.Metformin hydrochloride: Overdose of metformin hydrochloride has occurred, including ingestion of amounts greater than 50 grams. Metformin is dialyzable with a clearance of up to 170 mL/min under good hemodynamic conditions. Therefore, hemodialysis may be useful for removal of accumulated drug from patients in whom metformin overdosage is suspected. Pancreatitis may occur in the context of a metformin overdose.Storage ConditionsStore below 25C in a dry place away from light. Keep the medicines in a safe place, out of the reach of children. Do not use later than the date of expiry. To be dispensed only on the prescription of a registered physician.Use In Special PopulationsUse in Elderly:Because sitagliptin and metformin are substantially excreted by the kidney, and because aging can be associated with reduced renal function, Sitagliptin/ Metformin HCl combination should be used with caution as age increases. Care should be taken in dose selection and should be based on careful and regular monitoring of renal function.Pediatric use: Safety and effectiveness of Sitagliptin/ Metformin in pediatric patients under 18 years of age have not been establishedDrug ClassesCombination Oral hypoglycemic preparationsMode Of ActionThis tablet combines two antihyperglycemic agents with complementary mechanisms of action to improve glycemic control in patients with type diabetes. Sitagliptin, a dipeptidyl peptidase-4 (DPP-4) inhibitor, and Metformin HCl, a member of the biguanide class. Sitagliptin is a dipeptidyl peptidase-4 (DPP-4) inhibitor, which is believed to exert its actions in patients with type diabetes by slowing the inactivation of incretin hormones. Incretin hormones, including glucagon-like peptide-1 (GLP-1) and glucose-dependent insulinotropic polypeptide (GIP), are released by the intestine throughout the day, and levels are increased in response to a meal. These hormones are rapidly inactivated by the enzyme, DPP-4. The incretins are part of an endogenous system involved in the physiologic regulation of glucose homeostasis. When blood glucose concentrations are normal or elevated then GLP-1 and GIP increase insulin synthesis and release from pancreatic beta cells by intracellular signaling pathways involving cyclic AMP. GLP-1 also lowers glucagon secretion from pancreatic alpha cells, leading to reduced hepatic glucose production. By increasing and prolonging active incretin levels, Sitagliptin increases insulin release and decreases glucagon levels in the circulation in a glucose-dependent manner. The pharmacologic mechanism of action of Metformin HCl is different from other classes of oral antihyperglycemic agents. Metformin HCl decreases hepatic glucose production, decreases intestinal absorption of glucose and increases peripheral glucose uptake and utilization.PregnancyPregnancy Category B. There are no adequate and well-controlled studies in pregnant women with Sitagliptin Phosphate Monohydrate INN/Metformin Hydrochloride BP or its individual components; therefore, the safety of Sitagliptin Phosphate Monohydrate INN/Metformin Hydrochloride BP in pregnant women is not known. This tablet should be used during pregnancy only if clearly needed.It is not known whether sitagliptin is excreted in human milk. Because many drugs are excreted in human milk, caution should be exercised when this tablet is administered to a nursing woman.\"}), Document(page_content=\\'Starin20 mg/ml\\', metadata={\\'Price\\': \\'Tk 54.00\\', \\'unit\\': \\'/15 ml bottle\\', \\'Type\\': \\'Pediatric Drops\\', \\'Genric name\\': \\'Cefpodoxime Proxetil\\', \\'Company name\\': \\'Eskayef Bangladesh Ltd.\\', \\'Description\\': \\'<img alt=\"Section\" srcSet=\"/icons/note.svg 1x, /icons/note.svg 2x\" src=\"/icons/note.svg\" decoding=\"async\" data-nimg=\"intrinsic\" style=\"position:absolute;top:0;left:0;bottom:0;right:0;box-sizing:border-box;padding:0;border:none;margin:auto;display:block;width:0;height:0;min-width:100%;max-width:100%;min-height:100%;max-height:100%\" loading=\"lazy\"/>Medicine overviewEnglishIndications of Starin 20 mg/mlCefpodoxime is indicated for the treatment of infections caused by susceptible microorganism, listed below:  Acute otitis media caused by Streptococcus pneumoniae, Streptococcus pyogenes, Haemophilus influenza, Moraxella catarrhalis (including beta-lactamase producing strains). Pharyngitis/tonsillitis caused by Streptococcus pyogenes. ... Read moreCefpodoxime is indicated for the treatment of infections caused by susceptible microorganism, listed below:  Acute otitis media caused by Streptococcus pneumoniae, Streptococcus pyogenes, Haemophilus influenza, Moraxella catarrhalis (including beta-lactamase producing strains). Pharyngitis/tonsillitis caused by Streptococcus pyogenes. Acute maxillary sinusitis caused by Haemophilus influenzae (including beta-lactamase producing strains), Streptococcus pneumoniae and Moraxella catarrhalis. Community acquired pneumonia caused by S. pneumoniae or H. influenza (including beta-lactamase-producing strains). Acute bacterial exacerbation of chronic bronchitis caused by S. pneumoniae, H. influenzae (non-beta-lactamase-producing strains only), or M. catarrhalis. Skin and skin structure infections caused by Staphylococcus aureus, Streptococcus pyogenes. Uncomplicated urinary tract infections caused by E. coli, Klebsiella pneumoniae, Proteus mirabilis or Staphylococcus saprophyticus. Uncomplicated gonorrhea caused by Neisseria gonorrhoeae (including penicillinase-producing strains). Rectal gonococcal infections in women due to Neisseria gonorrhoeae (including penicillinase-producing strains). Theropeutic ClassThird generation CephalosporinsPharmacologyCefpodoxime is an oral 3rd generation cephalosporin, which has good stability to beta lactamases and activity against Gram negative and Gram positive bacteria. It is indicated for the treatment of infections either before the infecting organism has been identified. It is a prodrug its active metabolite is Cefpodoxime. Approximately 29 to 33% of Cefpodoxime excreted unchanged in the urine in 12 hours.Dosage Administration of Starin 20 mg/mlAdults and Adolescents (13 years and older) Pharyngitis/tonsillitis: 100 mg 12 hourly, to 10 days Acute maxillary sinusitis: 200 mg 12 hourly, 10 day Community acquired pneumonia: 200 mg 12 hourly, 14 days Acute bacterial exacerbations of chronic bronchitis: 200 mg 12 hourly, 10 days Skin and skin structure: 400 mg 12 hourly, to 14 days Uncomplicated urinary tract infection: 100 mg 12 hourly, days Uncomplicated gonorrhea: single dose of 200 mg Rectal gonococcal infections in women: single dose of 200 mg  Infants and Pediatric Patients (2 months to 12 years) Acute otitis media: mg/kg body weight 12 hourly, days Pharyngitis /tonsillitis: mg/kg body weight 12 hourly, to 10 days Acute maxillary sinusitis: mg/kg body weight 12 hourly, 10 days Dosage of Starin 20 mg/mlAdults and Adolescents (13 years and older) Pharyngitis/tonsillitis: 100 mg 12 hourly, to 10 days Acute maxillary sinusitis: 200 mg 12 hourly, 10 day Community acquired pneumonia: 200 mg 12 hourly, 14 days Acute bacterial exacerbations of chronic bronchitis: 200 mg 12 hourly, 10 days Skin and skin structure: 400 mg 12 hourly, to 14 days Uncomplicated urinary tract infection: 100 mg 12 hourly, days Uncomplicated gonorrhea: single dose of 200 mg Rectal gonococcal infections in women: single dose of 200 mg  Infants and Pediatric Patients (2 months to 12 years) Acute otitis media: mg/kg body weight 12 hourly, days Pharyngitis /tonsillitis: mg/kg body weight 12 hourly, to 10 days Acute maxillary sinusitis: mg/kg body weight 12 hourly, 10 days Interaction of Starin 20 mg/mlCefpodoxime concomitant administration of high doses of antacids (sodium bicarbonate and aluminum hydroxide) or H2 blockers reduces peak plasma levels and the extent of absorption respectively. Renal excretion of Cefpodoxime is inhibit by probenecid.ContraindicationsCefpodoxime is contraindicated in patients with known allergy to cephalosporins.Side Effects of Starin 20 mg/mlCefpodoxime has very few side effects. Possible side effects include gastrointestinal disorders (such as- diarrhea, nausea, vomiting and abdominal pain), rash, urticaria and itching.Pregnancy LactationUS FDA pregnancy category of Cefpodoxime is B. There is, however, no adequate and well-controlled study in pregnant women. Because animal reproduction studies are not always predictive of human response, this drug should be used during pregnancy only if clearly needed. Cefpodoxime have been shown to be excreted in human milk. So, caution should be exercised when Cefpodoxime is administered to a nursing woman.Precautions WarningsIn patients with transient or persistent reduction in urinary output due to renal insufficiency, the total daily dose of Cefpodoxime should be reduced. Cefpodoxime should be administered with caution to patients receiving concurrent treatment with potent diuretics. As with other antibiotics, prolonged use of Cefpodoxime may result in overgrowth of non-susceptible organisms.Storage ConditionsKeep in a dry place away from light and heat. Keep out of the reach of children.Use In Special PopulationsPatients with severe renal impairment (creatinin clearance <30 ml/min) the dosing intervals should be increased to 24 hourly. The dosage adjustment is not require in cases of hepatic impairment.ReconstitutionStep 1: Shake the bottle well to loosen the powder.Step 2: Add boiled and cooled water in the bottle.Step 3: Shake until powder is completely mixed with water.Drug ClassesThird generation CephalosporinsMode Of ActionCefpodoxime is an oral 3rd generation cephalosporin, which has good stability to beta lactamases and activity against Gram negative and Gram positive bacteria. It is indicated for the treatment of infections either before the infecting organism has been identified. It is a prodrug its active metabolite is Cefpodoxime. Approximately 29 to 33% of Cefpodoxime excreted unchanged in the urine in 12 hours.PregnancyUS FDA pregnancy category of Cefpodoxime is B. There is, however, no adequate and well-controlled study in pregnant women. Because animal reproduction studies are not always predictive of human response, this drug should be used during pregnancy only if clearly needed. Cefpodoxime have been shown to be excreted in human milk. So, caution should be exercised when Cefpodoxime is administered to a nursing woman.Pediatric UsesPatients with severe renal impairment (creatinin clearance <30 ml/min) the dosing intervals should be increased to 24 hourly. The dosage adjustment is not require in cases of hepatic impairment.\\'}), Document(page_content=\\'Tryptin10 mg\\', metadata={\\'Price\\': \\'Tk 0.76\\', \\'unit\\': \\'/piece\\', \\'Type\\': \\'Tablet\\', \\'Genric name\\': \\'Amitriptyline hydrochloride\\', \\'Company name\\': \\'Square Pharmaceuticals Ltd.\\', \\'Description\\': \\'<img alt=\"Section\" srcSet=\"/icons/note.svg 1x, /icons/note.svg 2x\" src=\"/icons/note.svg\" decoding=\"async\" data-nimg=\"intrinsic\" style=\"position:absolute;top:0;left:0;bottom:0;right:0;box-sizing:border-box;padding:0;border:none;margin:auto;display:block;width:0;height:0;min-width:100%;max-width:100%;min-height:100%;max-height:100%\" loading=\"lazy\"/>Medicine overviewEnglishIndications of Tryptin 10 mgTryptin 10 mg is indicated in- Depressive Illness: particularly where sedation is required. Nocturnal Enuresis in children. Prophylaxis of Migraine. Tension Headache. Chronic Pain.Theropeutic ClassTricyclic Anti-depressantPharmacologyAmitriptyline HCl is an antidepressant with sedative effects. Its mechanism of action in man is not known. It is not a monoamine oxidase inhibitor and it does not act primarily by stimulation of the central nervous system.Amitriptyline inhibits the membrane pump mechanism responsible for uptake of norepinephrine and serotonin in adrenergic and serotonergic neurons. Pharmacologically, this action may potentiate or prolong neuronal activity since reuptake of these biogenic amines is important physiologically in terminating transmitting activity. This interference with reuptake of norepinephrine and/or serotonin is believed by some to underlie the antidepressant activity of Amitriptyline.Dosage Administration of Tryptin 10 mgDepression Adults: Initially 50-70 mg a day in divided dose or as a single dose at night at bed time. Elderly and adolescents: 25-50 mg daily in divided doses or as single dose at bed time. Dose can be increased gradually as necessary to a maximum of 150-200 mg. Usual maintenance dose is 50-100 mg daily. Nocturnal enuresis: 6-10 years: 10-20 mg at bed time. 11-16 years: 25-50 mg at bed time for up to months and gradually withdrawn.Dosage of Tryptin 10 mgDepression: Initially 75 mg (Elderly and Adolescents 30-75 mg) daily in divided doses or as a single dose at bedtime increased gradually as necessary to 150-200 mg; Child under 16 years not recommended for depression.Nocturnal Enuresis: Child 7-10 years: 10-20 mg, 11-16 years: 25-50 mg at night; max. period of treatment (including gradual withdrawal) months-full physical examination before the further course. Prophylaxis of Migraine: 100 mg daily.Tension Headache: 10-25 mg three times daily.Interaction of Tryptin 10 mgTCA enhances the sedative effect of alcohol and opioid analgesics. When TCA is used with Moxifloxacin or Terfenadine, it increases the risk of ventricular arrhythmias. Disulfirum and Cimetidine inhibit the metabolism of Amitriptyline. When TCA is used with diuretics, it enhances the risk of postural hypotension.ContraindicationsAmitriptyline is contraindicated in myocardial infarction, arrythmias, particularly heart block of any degree, mania and severe liver disease. Initially, sedation may affect the ability to drive or operate machinery.Side Effects of Tryptin 10 mgAnticholinergic: Excessive perspiration, dry mouth, blurred vision, hyperpyrexia, urinary retention and urinary tract dilatation. Cardiovascular reactions: Hypotension, syncope, postural hypotension, hypertension, tachycardia, palpitations, myocardial infarction, etc. CNS and Neuromuscular: Confusional states, disturbed concentration, disorientation, delusions, etc. Allergic: Skin rash, urticaria, photosensitization, etc. Haematological: Bone-marrow depression. Gastrointestinal: Nausea, epigastric distress, vomiting, anorexia, stomatitis, unpleasant taste, weight loss, diarrhoea, constipation, etc. Endocrine: Testicular swelling, gynaecomastia, breast enlargement, galactorrhoea, etc.Pregnancy LactationPregnancy Category C. Tryptin 10 mg is not recommended during pregnancy, especially during the first and third trimester because the safety of Amitriptyline has not been established yet. Amitriptyline is detectable in breast milk. Because of the serious adverse reactions in infants from Amitriptyline, a decision should be made whether to continue breast feeding or discontinue the drugPrecautions WarningsIt should be used with caution in patients with a history of epilepsy, glaucoma, urinary retention, cardiac disease, diabetes, pregnancy, hepatic impairment, thyroid disease, increased intra-ocular pressure and psychoses (may aggravate mania).Storage ConditionsStore in a cool and dry place, below 30C. Protect from light and moisture.Drug ClassesTricyclic Anti-depressantMode Of ActionThe mechanism of action of this drug is not fully elucidated. It is suggested that amitriptyline inhibits the membrane pump mechanism responsible for the re-uptake of transmitter amines, such as norepinephrine and serotonin, thereby increasing their concentration at the synaptic clefts of the brain. These amines are important in regulating mood. The monoamine hypothesis in depression, one of the oldest hypotheses, postulates that deficiencies of serotonin (5-HT) and/or norepinephrine (NE) neurotransmission in the brain lead to depressive effects. This drug counteracts these mechanisms, and this may be the mechanism of amitriptyline in improving depressive symptoms. Whether its analgesic effects are related to its mood-altering activities or attributable to a different, less obvious pharmacological action (or a combination of both) is unknown.PregnancyPregnancy Category C. Amitriptyline has been shown to cross the placenta. Amitriptyline should be used during pregnancy only if the potential benefit to the mother justifies the potential risk to the fetus. Amitriptyline is excreted into breast milk. Because of the potential for serious adverse reactions in nursing infants from Amitriptyline, a decision should be made whether to discontinue nursing or to discontinue the drug, taking into account the importance of the drug to the mother.\\'})]\\n\\nQUESTION:\\n\\nI am feeling backpain when I sit what medicine should I take?\\n\\n[INST]\\n\\nTo provide a thorough and accurate medical answer based on the context:\\n\\n1.Explain the relevant medical concepts, conditions, and treatments mentioned in the context in detail, using proper medical terminology.\\n2.If the context discusses side effects or scenarios where medicine should not be used, include that information for the applicable medical options or courses of action. If dosages are mentioned, include those as well.\\n3.If the context provides pricing information for any medicines in Bangladeshi taka, include the price and brand name exactly as stated.\\n4.Only discuss Medicines that are explicitly mentioned and described in the provided context.\\n5.Also mention the company name, tablet type and others.\\n6. Do not ask any follow up questions.\\n[/INST]\\n\\n\\n7.'"
      ]
     },
     "execution_count": 18,
     "metadata": {},
     "output_type": "execute_result"
    }
   ],
   "source": [
    "result['text']"
   ]
  },
  {
   "cell_type": "code",
   "execution_count": 21,
   "id": "91456492-3a16-4f08-8d2c-8e2cc33935c8",
   "metadata": {},
   "outputs": [],
   "source": [
    "text = result['text']\n",
    "def prnt(text):\n",
    "    parts = text.split(\"[/INST]\")\n",
    "    if len(parts) > 1:\n",
    "        output = parts[1].strip()\n",
    "        print(output)\n",
    "        "
   ]
  },
  {
   "cell_type": "code",
   "execution_count": 24,
   "id": "441bd399-77e4-4af6-8f97-0a8999541fb5",
   "metadata": {},
   "outputs": [
    {
     "name": "stderr",
     "output_type": "stream",
     "text": [
      "Setting `pad_token_id` to `eos_token_id`:2 for open-end generation.\n"
     ]
    },
    {
     "name": "stdout",
     "output_type": "stream",
     "text": [
      "Back pain is a common health problem that affects millions of people worldwide. It can be caused by various factors such as injury, degenerative conditions, infections, and autoimmune disorders. The most common causes of back pain are herniated discs, spinal stenosis, osteoarthritis, rheumatoid arthritis, and fibromyalgia.\n",
      "\n",
      "Herniated discs occur when the gel-like cushion between the vertebrae in the spine slips out of place, putting pressure on surrounding nerves and causing pain. Spinal stenosis is a condition where the spinal canal narrows, leading to pressure on the spinal cord and nerves, resulting in pain and numbness. Osteoarthritis is a degenerative joint disease that affects the cartilage in the joints, leading to pain and stiffness. Rheumatoid arthritis is an autoimmune disorder that affects the joints, leading to pain, swelling, and stiffness. Fibromyalgia is a chronic pain syndrome characterized by widespread pain, fatigue, and tenderness in muscles and ligaments.\n",
      "\n",
      "Treatment options for back pain depend on the underlying cause. For herniated discs, physical therapy, medication, and surgery may be recommended. For spinal stenosis, medication, physical therapy, and surgery may be used. For osteoarthritis, medication, physical therapy, and joint replacement surgery may be recommended. For rheumatoid arthritis, medication, physical therapy, and joint replacement surgery may be used. For fibromyalgia, medication, physical therapy, and cognitive behavioral therapy may be recommended.\n",
      "\n",
      "It is important to note that some medications may interact with certain medical conditions or medications, so it is important to consult with a healthcare provider before starting any new medication. Additionally, some medications may have side effects such as nausea, dizziness, and headache, so it is important to monitor these symptoms closely and report them to a healthcare provider if they persist or worsen.\n",
      "\n",
      "In terms of pricing, the exact prices of medications for back pain may vary depending on the brand and availability in Bangladesh. However, some commonly prescribed medications for back pain include nonsteroidal anti-inflammatory drugs (NSAIDs) such as ibuprofen and naproxen, which are available in various brands and can cost around Tk. 100-150 per 100mg tablet. Other medications such as muscle relaxants and anticonvulsants may also be prescribed for back pain, but their prices may vary depending on the brand and availability.\n"
     ]
    }
   ],
   "source": [
    "\n",
    "result = rag_chain.invoke(\"I am feeling severe backpain for long amount of time. What should I do to mitigate the backpain and what can be the reason for the backpain?\")\n",
    "prnt(result['text'])"
   ]
  },
  {
   "cell_type": "code",
   "execution_count": 26,
   "id": "7284a9a5-5458-4559-82b1-d3883f3f6e79",
   "metadata": {},
   "outputs": [
    {
     "name": "stderr",
     "output_type": "stream",
     "text": [
      "Setting `pad_token_id` to `eos_token_id`:2 for open-end generation.\n"
     ]
    },
    {
     "name": "stdout",
     "output_type": "stream",
     "text": [
      "Hair loss, also known as alopecia, is a common condition characterized by the loss of hair follicles. There are several factors that can contribute to hair loss, including genetics, hormonal imbalances, stress, and certain medications. Treatment options for hair loss depend on the underlying cause and may include medications, such as minoxidil and finasteride, as well as cosmetic procedures, such as hair transplantation.\n",
      "\n",
      "Minoxidil is a medication that is applied topically to the scalp to stimulate hair growth. Finasteride is another medication that is taken orally to slow down hair loss. Both medications have been shown to be effective in treating hair loss.\n",
      "\n",
      "Hair transplantation is a surgical procedure in which healthy hair follicles are removed from another part of the body and implanted in the scalp to replace lost hair.\n",
      "\n",
      "It is important to note that some medications, such as nonsteroidal anti-inflammatory drugs (NSAIDs) and corticosteroids, can cause hair loss and should be avoided. Additionally, smoking and certain medical conditions, such as thyroid disorders and autoimmune diseases, can also contribute to hair loss.\n",
      "\n",
      "The cost of these medications and procedures can vary depending on the specific treatment plan and location. It is important to consult with a healthcare professional to determine the best course of action for managing hair loss.\n"
     ]
    }
   ],
   "source": [
    "\n",
    "result = rag_chain.invoke(\"How can I reduce my hair fall?\")\n",
    "prnt(result['text'])"
   ]
  },
  {
   "cell_type": "code",
   "execution_count": 27,
   "id": "d58fd86f-18e3-4db2-886e-8d2227e9a612",
   "metadata": {},
   "outputs": [
    {
     "name": "stderr",
     "output_type": "stream",
     "text": [
      "Setting `pad_token_id` to `eos_token_id`:2 for open-end generation.\n"
     ]
    },
    {
     "name": "stdout",
     "output_type": "stream",
     "text": [
      "The context mentions three different medicines:\n",
      "\n",
      "1. Palonicin 0.25 mg/5 ml: Palonicin 0.25 mg/5 ml is an anti-emetic drug used to treat nausea and vomiting. It is a 5-HT3 receptor antagonist that works by blocking the reabsorption of sodium, potassium, and chloride ions in the ascending loop of Henle, which leads to increased sodium loss and potassium gain, resulting in a negative sodium balance. Palonicin 0.25 mg/5 ml is available in the form of a tablet.\n",
      "2. Cotrimoxazole: Cotrimoxazole is an antibiotic used to treat various bacterial and fungal infections. It works by blocking the production of folinic acid in microorganisms, leading to their death. Cotrimoxazole is available in the form of a tablet.\n",
      "3. Furosemide: Furosemide is a loop diuretic used to treat fluid overload, edema, and hyponatremia. It works by inhibiting the reabsorption of sodium in the ascending loop of Henle, resulting in increased sodium loss and potassium gain, resulting in a negative sodium balance. Furosemide is available in the form of a tablet.\n",
      "\n",
      "It is important to note that Palonicin 0.25 mg/5 ml should not be used in patients with untreated ascites, acute renal failure, rapidly deteriorating or severe impairment of renal function (creatinine clearance\n"
     ]
    }
   ],
   "source": [
    "result = rag_chain.invoke(\"I'm feeling fever and headache what should I take in oder to mitigate this problems?\")\n",
    "prnt(result['text'])"
   ]
  },
  {
   "cell_type": "code",
   "execution_count": 28,
   "id": "f5f60135-12c2-4620-94a9-c74156b99069",
   "metadata": {},
   "outputs": [
    {
     "name": "stderr",
     "output_type": "stream",
     "text": [
      "Setting `pad_token_id` to `eos_token_id`:2 for open-end generation.\n"
     ]
    },
    {
     "name": "stdout",
     "output_type": "stream",
     "text": [
      "It is not clear from the provided context what specific medical condition or problem the patient is experiencing. However, based on the context, the patient may be experiencing itching, which could be a symptom of various medical conditions such as atopic dermatitis, contact dermatitis, psoriasis, or fungal infections.\n",
      "\n",
      "For atopic dermatitis, a common treatment includes topical corticosteroids such as prednisolone eye drops or topical gel. The dosage of prednisolone eye drops is typically 1 drop in each eye twice daily. The tablet form of prednisolone is not suitable for topical use.\n",
      "\n",
      "For contact dermatitis, a common treatment includes topical antibiotics such as erythromycin ointment or topical antibiotic cream. The dosage of erythromycin ointment is typically applied to the affected area once or twice daily.\n",
      "\n",
      "For psoriasis, a common treatment includes topical calcineurin inhibitors such as tacrolimus ointment or topical calcineurin inhibitor cream. The dosage of tacrolimus ointment is typically applied to the affected area once or twice daily.\n",
      "\n",
      "For fungal infections, a common treatment includes topical antifungal agents such as terbinafine cream or terbinafine hydrochloride gel. The dosage of terbinafine cream is typically applied to the affected area once or twice daily. The dosage of terbinafine hydrochloride gel is typically applied to the affected area once or twice daily.\n",
      "\n",
      "It is important to note that the choice of treatment will depend on the specific medical condition and individual patient factors. Patients should consult with a healthcare professional for personalized medical advice.\n"
     ]
    }
   ],
   "source": [
    "\n",
    "result = rag_chain.invoke(\"My whole body itches what should I take?\")\n",
    "prnt(result['text'])"
   ]
  },
  {
   "cell_type": "code",
   "execution_count": 37,
   "id": "98133d65-e65e-4d7a-bdee-fe36d61f1265",
   "metadata": {},
   "outputs": [],
   "source": [
    "# import speech_recognition as sr\n",
    "\n",
    "# r = sr.Recognizer()\n",
    "\n",
    "# with sr.Microphone() as source:\n",
    "#     print(\"Speak now...\")\n",
    "#     audio = r.listen(source)\n",
    "\n",
    "# try:\n",
    "#     text = r.recognize_google(audio)\n",
    "#     print(\"You said:\", text)\n",
    "#     with open(\"output.txt\", \"w\") as file:\n",
    "#         file.write(text)\n",
    "# except sr.UnknownValueError:\n",
    "#     print(\"Could not understand audio\")\n",
    "# except sr.RequestError as e:\n",
    "#     print(\"Could not request results from Google Speech Recognition service; {0}\".format(e))"
   ]
  },
  {
   "cell_type": "code",
   "execution_count": null,
   "id": "9cb459da-6be5-4ace-bdfe-788974e0ad5a",
   "metadata": {},
   "outputs": [],
   "source": []
  },
  {
   "cell_type": "code",
   "execution_count": null,
   "id": "31474c96-a900-46ae-ab2a-ecb15bb809a2",
   "metadata": {},
   "outputs": [],
   "source": []
  }
 ],
 "metadata": {
  "kernelspec": {
   "display_name": "Python 3 (ipykernel)",
   "language": "python",
   "name": "python3"
  },
  "language_info": {
   "codemirror_mode": {
    "name": "ipython",
    "version": 3
   },
   "file_extension": ".py",
   "mimetype": "text/x-python",
   "name": "python",
   "nbconvert_exporter": "python",
   "pygments_lexer": "ipython3",
   "version": "3.10.13"
  }
 },
 "nbformat": 4,
 "nbformat_minor": 5
}
